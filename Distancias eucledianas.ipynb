{
 "cells": [
  {
   "cell_type": "code",
   "execution_count": 1,
   "id": "8f2bb171",
   "metadata": {},
   "outputs": [],
   "source": [
    "import pandas as pd\n",
    "import numpy as np\n",
    "from scipy.spatial import distance\n",
    "\n",
    "with open(\"kroA100.tsp\") as f:\n",
    "        content = f.readlines()\n",
    "\n",
    "data = []\n",
    "for line in content:\n",
    "    if line.startswith(\"EOF\"):\n",
    "        break\n",
    "    values = line.strip().split()\n",
    "    lista_interna = []\n",
    "    data.append([values[1], values[2]])\n"
   ]
  },
  {
   "attachments": {},
   "cell_type": "markdown",
   "id": "077f20b6",
   "metadata": {},
   "source": [
    "Primera manera de obtener distancias eclidianas"
   ]
  },
  {
   "cell_type": "code",
   "execution_count": 2,
   "id": "a89f0dfa",
   "metadata": {},
   "outputs": [
    {
     "name": "stdout",
     "output_type": "stream",
     "text": [
      "[[   0.         1692.82987923 2252.27085405 ...  782.65254104\n",
      "  1468.2523625  2643.49408927]\n",
      " [1692.82987923    0.         1708.46978317 ... 1911.41099714\n",
      "  3155.99366286 1830.8052873 ]\n",
      " [2252.27085405 1708.46978317    0.         ... 1786.23542681\n",
      "  3314.91553437  454.27854891]\n",
      " ...\n",
      " [ 782.65254104 1911.41099714 1786.23542681 ...    0.\n",
      "  1535.21985396 2227.58434184]\n",
      " [1468.2523625  3155.99366286 3314.91553437 ... 1535.21985396\n",
      "     0.         3760.45316418]\n",
      " [2643.49408927 1830.8052873   454.27854891 ... 2227.58434184\n",
      "  3760.45316418    0.        ]]\n"
     ]
    }
   ],
   "source": [
    "matriz = np.array(data)\n",
    "\n",
    "# Calcular las distancias euclidianas entre cada par de puntos\n",
    "num_ciudades = matriz.shape[0]\n",
    "distances = np.zeros((num_ciudades, num_ciudades))\n",
    "\n",
    "for i in range(num_ciudades):\n",
    "    for j in range(i+1, num_ciudades):\n",
    "        distances[i, j] = np.linalg.norm(pd.to_numeric(matriz[i]) - pd.to_numeric(matriz[j]))\n",
    "        distances[j, i] = distances[i, j]\n",
    "\n",
    "# Las distancias euclidianas están almacenadas en la matriz \"distances\"\n",
    "print(distances)"
   ]
  },
  {
   "attachments": {},
   "cell_type": "markdown",
   "id": "cb5dde65",
   "metadata": {},
   "source": [
    "Segunda manera de obtener distancias eclidianas"
   ]
  },
  {
   "cell_type": "code",
   "execution_count": 4,
   "id": "3f7bcf06",
   "metadata": {},
   "outputs": [
    {
     "name": "stdout",
     "output_type": "stream",
     "text": [
      "[[   0.         1692.82987923 2252.27085405 ...  782.65254104\n",
      "  1468.2523625  2643.49408927]\n",
      " [1692.82987923    0.         1708.46978317 ... 1911.41099714\n",
      "  3155.99366286 1830.8052873 ]\n",
      " [2252.27085405 1708.46978317    0.         ... 1786.23542681\n",
      "  3314.91553437  454.27854891]\n",
      " ...\n",
      " [ 782.65254104 1911.41099714 1786.23542681 ...    0.\n",
      "  1535.21985396 2227.58434184]\n",
      " [1468.2523625  3155.99366286 3314.91553437 ... 1535.21985396\n",
      "     0.         3760.45316418]\n",
      " [2643.49408927 1830.8052873   454.27854891 ... 2227.58434184\n",
      "  3760.45316418    0.        ]]\n"
     ]
    }
   ],
   "source": [
    "#2da. Manera de hacerlo\n",
    "df = pd.DataFrame(data)\n",
    "#df = df.drop(\"index\", axis=1)\n",
    "df = df.astype(float)\n",
    "df = df.values\n",
    "\n",
    "distances = distance.cdist(df, df, 'euclidean')\n",
    "print(distances)"
   ]
  }
 ],
 "metadata": {
  "kernelspec": {
   "display_name": "Python 3",
   "language": "python",
   "name": "python3"
  },
  "language_info": {
   "codemirror_mode": {
    "name": "ipython",
    "version": 3
   },
   "file_extension": ".py",
   "mimetype": "text/x-python",
   "name": "python",
   "nbconvert_exporter": "python",
   "pygments_lexer": "ipython3",
   "version": "3.11.2"
  },
  "vscode": {
   "interpreter": {
    "hash": "aee8b7b246df8f9039afb4144a1f6fd8d2ca17a180786b69acc140d282b71a49"
   }
  }
 },
 "nbformat": 4,
 "nbformat_minor": 5
}
