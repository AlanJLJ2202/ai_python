{
 "cells": [
  {
   "cell_type": "code",
   "execution_count": 11,
   "id": "8f2bb171",
   "metadata": {},
   "outputs": [
    {
     "ename": "IndexError",
     "evalue": "list index out of range",
     "output_type": "error",
     "traceback": [
      "\u001b[0;31m---------------------------------------------------------------------------\u001b[0m",
      "\u001b[0;31mIndexError\u001b[0m                                Traceback (most recent call last)",
      "Cell \u001b[0;32mIn[11], line 22\u001b[0m\n\u001b[1;32m     17\u001b[0m         data\u001b[39m.\u001b[39mappend([values[\u001b[39m0\u001b[39m], values[\u001b[39m1\u001b[39m], values[\u001b[39m2\u001b[39m]])\n\u001b[1;32m     19\u001b[0m     \u001b[39mreturn\u001b[39;00m pd\u001b[39m.\u001b[39mDataFrame(data, columns\u001b[39m=\u001b[39m[\u001b[39m\"\u001b[39m\u001b[39mnode\u001b[39m\u001b[39m\"\u001b[39m, \u001b[39m\"\u001b[39m\u001b[39mx\u001b[39m\u001b[39m\"\u001b[39m, \u001b[39m\"\u001b[39m\u001b[39my\u001b[39m\u001b[39m\"\u001b[39m])\n\u001b[0;32m---> 22\u001b[0m df \u001b[39m=\u001b[39m read_tsp_file(\u001b[39m\"\u001b[39;49m\u001b[39m/Users/alanjlj/Documents/python_projects/ai_project/data/kroA100.tsp\u001b[39;49m\u001b[39m\"\u001b[39;49m)\n\u001b[1;32m     23\u001b[0m \u001b[39mprint\u001b[39m(df)\n",
      "Cell \u001b[0;32mIn[11], line 17\u001b[0m, in \u001b[0;36mread_tsp_file\u001b[0;34m(filepath)\u001b[0m\n\u001b[1;32m     15\u001b[0m \u001b[39mfor\u001b[39;00m line \u001b[39min\u001b[39;00m content:\n\u001b[1;32m     16\u001b[0m     values \u001b[39m=\u001b[39m line\u001b[39m.\u001b[39mstrip()\u001b[39m.\u001b[39msplit()\n\u001b[0;32m---> 17\u001b[0m     data\u001b[39m.\u001b[39mappend([values[\u001b[39m0\u001b[39m], values[\u001b[39m1\u001b[39m], values[\u001b[39m2\u001b[39;49m]])\n\u001b[1;32m     19\u001b[0m \u001b[39mreturn\u001b[39;00m pd\u001b[39m.\u001b[39mDataFrame(data, columns\u001b[39m=\u001b[39m[\u001b[39m\"\u001b[39m\u001b[39mnode\u001b[39m\u001b[39m\"\u001b[39m, \u001b[39m\"\u001b[39m\u001b[39mx\u001b[39m\u001b[39m\"\u001b[39m, \u001b[39m\"\u001b[39m\u001b[39my\u001b[39m\u001b[39m\"\u001b[39m])\n",
      "\u001b[0;31mIndexError\u001b[0m: list index out of range"
     ]
    }
   ],
   "source": [
    "import pandas as pd\n",
    "import numpy as np\n",
    "\n",
    "def read_tsp_file(filepath):\n",
    "    with open(filepath) as f:\n",
    "        content = f.readlines()\n",
    "\n",
    "    # you may also want to remove whitespace characters like `\\n` at the end of each line\n",
    "    content = [x.strip() for x in content]\n",
    "    \n",
    "\n",
    "    #print(content)\n",
    "    \n",
    "    data = []\n",
    "    for line in content:\n",
    "        values = line.strip().split()\n",
    "        data.append([values[0], values[1], values[2]])\n",
    "\n",
    "    return pd.DataFrame(data, columns=[\"node\", \"x\", \"y\"])\n",
    "    \n",
    "\n",
    "df = read_tsp_file(\"/Users/alanjlj/Documents/python_projects/ai_project/data/kroA100.tsp\")\n",
    "print(df)"
   ]
  }
 ],
 "metadata": {
  "kernelspec": {
   "display_name": "Python 3",
   "language": "python",
   "name": "python3"
  },
  "language_info": {
   "codemirror_mode": {
    "name": "ipython",
    "version": 3
   },
   "file_extension": ".py",
   "mimetype": "text/x-python",
   "name": "python",
   "nbconvert_exporter": "python",
   "pygments_lexer": "ipython3",
   "version": "3.11.2"
  },
  "vscode": {
   "interpreter": {
    "hash": "aee8b7b246df8f9039afb4144a1f6fd8d2ca17a180786b69acc140d282b71a49"
   }
  }
 },
 "nbformat": 4,
 "nbformat_minor": 5
}
