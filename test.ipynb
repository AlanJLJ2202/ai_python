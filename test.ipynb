{
 "cells": [
  {
   "cell_type": "code",
   "execution_count": 13,
   "metadata": {},
   "outputs": [
    {
     "name": "stdout",
     "output_type": "stream",
     "text": [
      "17\n",
      "2\n",
      "4\n",
      "3\n",
      "1\n"
     ]
    }
   ],
   "source": [
    "import pandas as pd\n",
    "import numpy as np\n",
    "from scipy.spatial.distance import pdist, squareform\n",
    "\n",
    "\n",
    "ubi = input()\n",
    "cantUbi = [int(x) for x in input().split(\" \")]\n",
    "print(cantUbi)\n",
    "\n",
    "\n",
    "#Se declaran la cantidad de ubicaciones\n",
    "ubicaciones = 4\n",
    "\n",
    "#Se declara de donde inicia el recorrido del agente viajero\n",
    "bob_house = 2\n",
    "\n",
    "#Se declara la matriz de distancias\n",
    "data = [[1, 0, 7],\n",
    "        [2, 4, 3],\n",
    "        [3, 6, 1],\n",
    "        [4, 5, 1],]\n",
    "\n",
    "df = pd.DataFrame(data, columns=['indice', 'x', 'y'])\n",
    "\n",
    "# Mover las filas que coinciden con la condición a la primera posición\n",
    "df = pd.concat([df[df['indice'] == bob_house], df[df['indice'] != bob_house]]).reset_index(drop=True)\n",
    "\n",
    "#Se calcula la matriz de distancias\n",
    "matriz_distancias = squareform((pdist(df[['x', 'y']])))\n",
    "\n",
    "#Cada elemento de la matriz de distancias se redondea a el entero más cercano\n",
    "for i in range(ubicaciones):\n",
    "     for j in range(len(matriz_distancias)):\n",
    "        if matriz_distancias[i, j] != '--' and matriz_distancias[i, j] != 0.0:\n",
    "            valor_nuevo = int(matriz_distancias[i, j] + 0.5)\n",
    "            matriz_distancias[i, j] = int(matriz_distancias[i, j] + 0.5)\n",
    "            \n",
    "\n",
    "# Definimos el punto inicial y lo agregamos a una lista de puntos visitados\n",
    "punto_inicial = 0\n",
    "puntos_visitados = [punto_inicial]\n",
    "\n",
    "# Definimos una función para encontrar el punto más cercano a un punto dado\n",
    "def encontrar_vecino_mas_cercano(point, puntos_visitados):\n",
    "    # Calculamos las distancias entre el punto y todos los demás puntos\n",
    "    distancia_a_todos = matriz_distancias[point, :]\n",
    "    # Eliminamos los puntos que ya fueron visitados\n",
    "    distancia_a_todos[puntos_visitados] = np.inf\n",
    "    # Encontramos el índice del punto más cercano\n",
    "    vecino_mas_cercano = np.argmin(distancia_a_todos)\n",
    "    return vecino_mas_cercano\n",
    "\n",
    "# Iteramos sobre todos los puntos de la matriz de distancias\n",
    "for i in range(ubicaciones):\n",
    "    # Encontramos el punto más cercano al último punto visitado\n",
    "    nearest_neighbor = encontrar_vecino_mas_cercano(puntos_visitados[-1], puntos_visitados)\n",
    "    # Agregamos el punto más cercano a la lista de puntos visitados\n",
    "    puntos_visitados.append(nearest_neighbor)\n",
    "\n",
    "puntos = []\n",
    "for point in puntos_visitados:\n",
    "    if df.loc[point].indice not in puntos:\n",
    "        puntos.append(df.loc[point].indice)\n",
    "\n",
    "# Definir la función para calcular la distancia euclidiana entre dos puntos\n",
    "def distancia_euclidiana(point1, point2):\n",
    "     return np.sqrt((point1[1] - point2[1])**2 + (point1[2] - point2[2])**2)\n",
    "\n",
    "#Calcular la distancia total recorrida por el agente\n",
    "distancia_total = 0\n",
    "for i in range(len(puntos_visitados)-1):\n",
    "     distancia_total += distancia_euclidiana(df.loc[puntos_visitados[i]], df.loc[puntos_visitados[i+1]])\n",
    "\n",
    "print(int(distancia_total))\n",
    "for i in range(len(puntos)):\n",
    "    print(puntos[i])"
   ]
  }
 ],
 "metadata": {
  "kernelspec": {
   "display_name": "Python 3",
   "language": "python",
   "name": "python3"
  },
  "language_info": {
   "codemirror_mode": {
    "name": "ipython",
    "version": 3
   },
   "file_extension": ".py",
   "mimetype": "text/x-python",
   "name": "python",
   "nbconvert_exporter": "python",
   "pygments_lexer": "ipython3",
   "version": "3.11.2 (v3.11.2:878ead1ac1, Feb  7 2023, 10:02:41) [Clang 13.0.0 (clang-1300.0.29.30)]"
  },
  "orig_nbformat": 4,
  "vscode": {
   "interpreter": {
    "hash": "aee8b7b246df8f9039afb4144a1f6fd8d2ca17a180786b69acc140d282b71a49"
   }
  }
 },
 "nbformat": 4,
 "nbformat_minor": 2
}
